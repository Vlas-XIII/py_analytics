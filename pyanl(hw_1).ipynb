{
 "cells": [
  {
   "cell_type": "markdown",
   "id": "0212c127-54a4-4791-9a9d-ddb4aecd8e08",
   "metadata": {},
   "source": [
    "## Задача 2\n",
    "На складе лежат разные фрукты в разном количестве.<br/>\n",
    "Нужно написать функцию, которая на вход принимает любое количество названий фруктов и их количество, а возвращает общее количество фруктов на складе"
   ]
  },
  {
   "cell_type": "code",
   "execution_count": 1,
   "id": "61894f73-28ac-4e54-9614-0f2d6e4eba81",
   "metadata": {},
   "outputs": [],
   "source": [
    "def fruits(**kwargs):\n",
    "    total = sum(kwargs.values())\n",
    "    print(total)"
   ]
  },
  {
   "cell_type": "code",
   "execution_count": 2,
   "id": "454a1a30-aa9f-42fd-9fea-91c0abe610c6",
   "metadata": {},
   "outputs": [
    {
     "name": "stdout",
     "output_type": "stream",
     "text": [
      "12\n"
     ]
    }
   ],
   "source": [
    "fruits(banana=4, apple=3, orange=5)"
   ]
  },
  {
   "cell_type": "markdown",
   "id": "c0b0c9dc-859d-4b72-b7e2-62aaafd25d90",
   "metadata": {},
   "source": [
    "## Задача 3\n",
    "\n",
    "Дан список с затратами на рекламу. Но в данных есть ошибки, некоторые затраты имеют отрицательную величину.<br/> Удалите такие значения из списка и посчитайте суммарные затраты\n",
    "[100, 125, -90, 345, 655, -1, 0, 200]<br/>\n",
    "Используйте list comprehensions"
   ]
  },
  {
   "cell_type": "code",
   "execution_count": 3,
   "id": "7f3f4fa2-fb38-460d-bae5-1aaaa3210a1f",
   "metadata": {},
   "outputs": [
    {
     "data": {
      "text/plain": [
       "1425"
      ]
     },
     "execution_count": 3,
     "metadata": {},
     "output_type": "execute_result"
    }
   ],
   "source": [
    "expenses = [100, 125, -90, 345, 655, -1, 0, 200]\n",
    "sum([i if i > 0 else 0 for i in expenses])"
   ]
  },
  {
   "cell_type": "markdown",
   "id": "15e10277-373c-44fe-81d3-8a23d01f7a5a",
   "metadata": {
    "tags": []
   },
   "source": [
    "## Задача 4\n",
    "Даны два списка.\n",
    "1. Дата покупки\n",
    "['2021-09-14', '2021-12-15', '2021-09-08', '2021-12-05', '2021-10-09', '2021-09-30', '2021-12-22', '2021-11-29', '2021-12-24', '2021-11-26', '2021-10-27', '2021-12-18', '2021-11-09', '2021-11-23', '2021-09-27', '2021-10-02', '2021-12-27', '2021-09-20', '2021-12-13', '2021-11-01', '2021-11-09', '2021-12-06', '2021-12-08', '2021-10-09', '2021-10-31', '2021-09-30', '2021-11-09', '2021-12-13', '2021-10-26', '2021-12-09']\n",
    "2. Суммы покупок по датам\n",
    "[1270, 8413, 9028, 3703, 5739, 4095, 295, 4944, 5723, 3701, 4471, 651, 7037, 4274, 6275, 4988, 6930, 2971, 6592, 2004, 2822, 519, 3406, 2732, 5015, 2008, 316, 6333, 5700, 2887]\n",
    "### 4.1 \n",
    "Найдите, какая выручка у компании в ноябре<br/>\n",
    "Используйте list comprehensions"
   ]
  },
  {
   "cell_type": "code",
   "execution_count": 4,
   "id": "92c9e6af-b988-4022-b01c-179ac99d7944",
   "metadata": {},
   "outputs": [
    {
     "name": "stdout",
     "output_type": "stream",
     "text": [
      "Выручка компании в ноябре = 25098\n"
     ]
    }
   ],
   "source": [
    "date_pay = ['2021-09-14', '2021-12-15', '2021-09-08', '2021-12-05', '2021-10-09', '2021-09-30', '2021-12-22', '2021-11-29', '2021-12-24', '2021-11-26', '2021-10-27', '2021-12-18', '2021-11-09', '2021-11-23', '2021-09-27', '2021-10-02', '2021-12-27', '2021-09-20', '2021-12-13', '2021-11-01', '2021-11-09', '2021-12-06', '2021-12-08', '2021-10-09', '2021-10-31', '2021-09-30', '2021-11-09', '2021-12-13', '2021-10-26', '2021-12-09']\n",
    "pay = [1270, 8413, 9028, 3703, 5739, 4095, 295, 4944, 5723, 3701, 4471, 651, 7037, 4274, 6275, 4988, 6930, 2971, 6592, 2004, 2822, 519, 3406, 2732, 5015, 2008, 316, 6333, 5700, 2887]\n",
    "\n",
    "res = sum([values for key, values in zip(date_pay, pay) if key[5:7] == '11'])\n",
    "print(f'Выручка компании в ноябре = {res}')"
   ]
  },
  {
   "cell_type": "markdown",
   "id": "12fc5e2a-8333-4e6a-9ead-8945c49d7a5e",
   "metadata": {},
   "source": [
    "### 4.2 \n",
    "Найдите выручку компании в зависимости от месяца <br/>\n",
    "Для этого напишите функцию, которая на вход принимает список с датами и список с выручкой, а на выходе словарь, где ключи - это месяцы, а значения - это выручка.<br/>\n",
    "Используйте аннотирование типов."
   ]
  },
  {
   "cell_type": "code",
   "execution_count": 5,
   "id": "4ec5516c-eeff-4e46-a6e1-42602d433f42",
   "metadata": {},
   "outputs": [
    {
     "name": "stdout",
     "output_type": "stream",
     "text": [
      "{'2021-09': 25647, '2021-10': 28645, '2021-11': 25098, '2021-12': 45452}\n"
     ]
    }
   ],
   "source": [
    "from typing import List, Dict\n",
    "def proceeds_month(date: List, money: List) -> Dict:\n",
    "    res = {}\n",
    "    for d, m in zip(date, money):\n",
    "        if d[0:7] in res.keys():\n",
    "            res[d[0:7]] += m\n",
    "        else:\n",
    "            res[d[0:7]] = m\n",
    "    return dict(sorted(res.items()))\n",
    " \n",
    "print(proceeds_month(date_pay, pay))"
   ]
  },
  {
   "cell_type": "code",
   "execution_count": null,
   "id": "7884fd5b-691e-4574-ae69-b352c3c6551c",
   "metadata": {},
   "outputs": [],
   "source": []
  }
 ],
 "metadata": {
  "kernelspec": {
   "display_name": "Python 3 (ipykernel)",
   "language": "python",
   "name": "python3"
  },
  "language_info": {
   "codemirror_mode": {
    "name": "ipython",
    "version": 3
   },
   "file_extension": ".py",
   "mimetype": "text/x-python",
   "name": "python",
   "nbconvert_exporter": "python",
   "pygments_lexer": "ipython3",
   "version": "3.10.7"
  }
 },
 "nbformat": 4,
 "nbformat_minor": 5
}
